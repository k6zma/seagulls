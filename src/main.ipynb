{
 "cells": [
  {
   "cell_type": "markdown",
   "metadata": {},
   "source": [
    "# <b>This is my solution to <u>exercise A</u> of the track \"<u>To Start</u>\" of the hackathon \"<u>ML Hackathon: Utashuda's wild life!</u>\"<b>"
   ]
  },
  {
   "cell_type": "markdown",
   "metadata": {},
   "source": [
    "<style>\n",
    ".center {\n",
    "  display: block;\n",
    "  margin-left: auto;\n",
    "  margin-right: auto;\n",
    "  width: 80%;\n",
    "}\n",
    "</style>\n",
    "\n",
    "<img src='https://proza.ru/pics/2018/12/16/1619.jpg' class=\"center\">"
   ]
  },
  {
   "cell_type": "markdown",
   "metadata": {},
   "source": [
    "# <b>0. Downloading the necessary files (database), libraries and environment setup<b>"
   ]
  },
  {
   "cell_type": "markdown",
   "metadata": {},
   "source": [
    "0.1 Downloading YOLOv5 and installing the necessary libraries for YOLOv5"
   ]
  },
  {
   "cell_type": "code",
   "execution_count": null,
   "metadata": {},
   "outputs": [],
   "source": [
    "!git clone https://github.com/ultralytics/yolov5\n",
    "%cd yolov5\n",
    "%pip install -qr requirements.txt"
   ]
  },
  {
   "cell_type": "markdown",
   "metadata": {},
   "source": [
    "0.2 Development environment settings"
   ]
  },
  {
   "cell_type": "code",
   "execution_count": null,
   "metadata": {},
   "outputs": [],
   "source": [
    "%matplotlib notebook\n",
    "%matplotlib inline"
   ]
  },
  {
   "cell_type": "markdown",
   "metadata": {},
   "source": [
    "0.3 Installing comet ml"
   ]
  },
  {
   "cell_type": "code",
   "execution_count": null,
   "metadata": {},
   "outputs": [],
   "source": [
    "!pip install comet_ml"
   ]
  },
  {
   "cell_type": "markdown",
   "metadata": {},
   "source": [
    "0.4 Downloading database (train, valid, test)"
   ]
  },
  {
   "cell_type": "code",
   "execution_count": null,
   "metadata": {},
   "outputs": [],
   "source": [
    "!wget https://zaborshicov.ru/hiden/k6zma_ds.zip\n",
    "!unzip k6zma_ds.zip"
   ]
  },
  {
   "cell_type": "markdown",
   "metadata": {},
   "source": [
    "# <b>1. Importing the necessary libraries and initializing comet ml</b>"
   ]
  },
  {
   "cell_type": "markdown",
   "metadata": {},
   "source": [
    "1.1 Importing libraries"
   ]
  },
  {
   "cell_type": "code",
   "execution_count": null,
   "metadata": {},
   "outputs": [],
   "source": [
    "from glob import glob\n",
    "from tqdm.notebook import tqdm\n",
    "\n",
    "from PIL import Image\n",
    "import cv2\n",
    "from mpl_toolkits.axes_grid1 import ImageGrid\n",
    "\n",
    "import random\n",
    "\n",
    "from sklearn.metrics import mean_squared_error as mse\n",
    "\n",
    "import torch\n",
    "\n",
    "import numpy as np\n",
    "import pandas as pd\n",
    "\n",
    "import comet_ml\n",
    "\n",
    "import seaborn as sns\n",
    "import matplotlib.pyplot as plt"
   ]
  },
  {
   "cell_type": "markdown",
   "metadata": {},
   "source": [
    "1.2 Initializing comet ml"
   ]
  },
  {
   "cell_type": "code",
   "execution_count": null,
   "metadata": {},
   "outputs": [],
   "source": [
    "comet_ml.init()"
   ]
  },
  {
   "cell_type": "markdown",
   "metadata": {},
   "source": [
    "# <b>2. Data analysis<b>"
   ]
  },
  {
   "cell_type": "markdown",
   "metadata": {},
   "source": [
    "2.1 Creating a function to create a list with the number of seagulls in each image"
   ]
  },
  {
   "cell_type": "code",
   "execution_count": null,
   "metadata": {},
   "outputs": [],
   "source": [
    "def analyze_data(path):\n",
    "    pathes = tqdm(glob(path))\n",
    "    nums = []\n",
    "\n",
    "    for pth in pathes:\n",
    "        with open(pth, 'r') as f:\n",
    "            nums.append(0)\n",
    "            for line in f:\n",
    "                nums[-1] += 1\n",
    "\n",
    "    return nums"
   ]
  },
  {
   "cell_type": "markdown",
   "metadata": {},
   "source": [
    "2.2 Saving the result of the function for train and valid"
   ]
  },
  {
   "cell_type": "code",
   "execution_count": null,
   "metadata": {},
   "outputs": [],
   "source": [
    "nums_train = analyze_data('train/labels/*')\n",
    "nums_valid = analyze_data('valid/labels/*')"
   ]
  },
  {
   "cell_type": "markdown",
   "metadata": {},
   "source": [
    "2.3 Calculating the average number of seagulls in images"
   ]
  },
  {
   "cell_type": "code",
   "execution_count": null,
   "metadata": {},
   "outputs": [],
   "source": [
    "print(f'{sum(nums_train)/len(nums_train)} - average number of seagulls in the images in the training dataset')\n",
    "print(f'{sum(nums_valid)/len(nums_valid)} - average number of seagulls in the images in the validation dataset')"
   ]
  },
  {
   "cell_type": "markdown",
   "metadata": {},
   "source": [
    "2.4 Plotting with the number of seagulls"
   ]
  },
  {
   "cell_type": "code",
   "execution_count": null,
   "metadata": {},
   "outputs": [],
   "source": [
    "plt.figure(figsize=(8, 5))\n",
    "\n",
    "sns.histplot(nums_train, color='r', kde=True)\n",
    "sns.histplot(nums_valid, color='g', kde=True)\n",
    "\n",
    "plt.xlabel('Seagulls count')\n",
    "plt.ylabel('Count')\n",
    "plt.title('Seagulls')\n",
    "plt.show()"
   ]
  },
  {
   "cell_type": "markdown",
   "metadata": {},
   "source": [
    "2.5 Сreating function to preview 6 images"
   ]
  },
  {
   "cell_type": "code",
   "execution_count": null,
   "metadata": {},
   "outputs": [],
   "source": [
    "def preview_image(path):\n",
    "    fig = plt.figure(figsize=(10., 10.))\n",
    "    grid = ImageGrid(fig, 111,\n",
    "                    nrows_ncols=(2, 3),\n",
    "                    axes_pad=0.1,\n",
    "                    )\n",
    "\n",
    "    pathes = glob(path)\n",
    "    images = [cv2.cvtColor(cv2.imread(img), cv2.COLOR_BGR2RGB) for img in random.choices(pathes, k = 6)]\n",
    "\n",
    "    for ax, im in zip(grid, images):\n",
    "        ax.imshow(im)\n",
    "\n",
    "    plt.show()"
   ]
  },
  {
   "cell_type": "markdown",
   "metadata": {},
   "source": [
    "2.6 Previewing images"
   ]
  },
  {
   "cell_type": "code",
   "execution_count": null,
   "metadata": {},
   "outputs": [],
   "source": [
    "preview_image('train/images/*')"
   ]
  },
  {
   "cell_type": "markdown",
   "metadata": {},
   "source": [
    "# <b>3. Hyperparameter upgrade<b>"
   ]
  },
  {
   "cell_type": "markdown",
   "metadata": {},
   "source": [
    "3.1 Creating a generic function to change the contents of a file"
   ]
  },
  {
   "cell_type": "code",
   "execution_count": null,
   "metadata": {},
   "outputs": [],
   "source": [
    "from IPython.core.magic import register_line_cell_magic\n",
    "\n",
    "@register_line_cell_magic\n",
    "def writetemplate(line, cell):\n",
    "    with open(line, 'w') as f:\n",
    "        f.write(cell.format(**globals()))"
   ]
  },
  {
   "cell_type": "markdown",
   "metadata": {},
   "source": [
    "3.2 Modifying the hyp.scratch-high.yaml file"
   ]
  },
  {
   "cell_type": "code",
   "execution_count": null,
   "metadata": {},
   "outputs": [],
   "source": [
    "%%writetemplate data/hyps/hyp.scratch-high.yaml\n",
    "\n",
    "# YOLOv5 🚀 by Ultralytics, AGPL-3.0 license\n",
    "# Hyperparameters for high-augmentation COCO training from scratch\n",
    "# python train.py --batch 32 --cfg yolov5m6.yaml --weights '' --data coco.yaml --img 1280 --epochs 300\n",
    "# See tutorials for hyperparameter evolution https://github.com/ultralytics/yolov5#tutorials\n",
    "\n",
    "lr0: 0.001  # initial learning rate (SGD=1E-2, Adam=1E-3)\n",
    "lrf: 0.1  # final OneCycleLR learning rate (lr0 * lrf)\n",
    "momentum: 0.937  # SGD momentum/Adam beta1\n",
    "weight_decay: 0.0009  # optimizer weight decay 5e-4\n",
    "warmup_epochs: 5.0  # warmup epochs (fractions ok)\n",
    "warmup_momentum: 0.8  # warmup initial momentum\n",
    "warmup_bias_lr: 0.1  # warmup initial bias lr\n",
    "box: 0.05  # box loss gain\n",
    "cls: 0.0  # cls loss gain\n",
    "cls_pw: 1.0  # cls BCELoss positive_weight\n",
    "obj: 0.7  # obj loss gain (scale with pixels)\n",
    "obj_pw: 1.0  # obj BCELoss positive_weight\n",
    "iou_t: 0.60  # IoU training threshold\n",
    "anchor_t: 4.0  # anchor-multiple threshold\n",
    "# anchors: 3  # anchors per output layer (0 to ignore)\n",
    "fl_gamma: 0.0  # focal loss gamma (efficientDet default gamma=1.5)\n",
    "hsv_h: 0.0  # image HSV-Hue augmentation (fraction)\n",
    "hsv_s: 0.0  # image HSV-Saturation augmentation (fraction)\n",
    "hsv_v: 0.2  # image HSV-Value augmentation (fraction)\n",
    "degrees: 0.0  # image rotation (+/- deg)\n",
    "translate: 0.0  # image translation (+/- fraction)\n",
    "scale: 0.0  # image scale (+/- gain)\n",
    "shear: 0.0  # image shear (+/- deg)\n",
    "perspective: 0.0  # image perspective (+/- fraction), range 0-0.001\n",
    "flipud: 0.0  # image flip up-down (probability)\n",
    "fliplr: 0.5  # image flip left-right (probability)\n",
    "mosaic: 0.9  # image mosaic (probability)\n",
    "mixup: 0.05  # image mixup (probability)\n",
    "copy_paste: 0.05  # segment copy-paste (probability)\n",
    "single_cls: True\n",
    "dropout: 0.2"
   ]
  },
  {
   "cell_type": "markdown",
   "metadata": {},
   "source": [
    "# <b>4. YOLOv5 model training</b>"
   ]
  },
  {
   "cell_type": "markdown",
   "metadata": {},
   "source": [
    "4.1 YOLOv5X training\n",
    "\n",
    "If you train the YOLOv5X model, you can see that the 25th, 30th, 40th, 45th and 50th epochs have the best metrics"
   ]
  },
  {
   "cell_type": "code",
   "execution_count": null,
   "metadata": {},
   "outputs": [],
   "source": [
    "!python train.py --img 640 --batch 10 --epochs 100 --data data.yaml --weights yolov5x.pt --hyp hyp.scratch-high.yaml --device 0 --save-period 50"
   ]
  },
  {
   "cell_type": "markdown",
   "metadata": {},
   "source": [
    "# <b>5. Iterating over conf and value</b>"
   ]
  },
  {
   "cell_type": "markdown",
   "metadata": {},
   "source": [
    "5.1 Sequential selection of the best conf and then iou"
   ]
  },
  {
   "cell_type": "markdown",
   "metadata": {},
   "source": [
    "5.1.1 Function to find the best conf"
   ]
  },
  {
   "cell_type": "code",
   "execution_count": null,
   "metadata": {},
   "outputs": [],
   "source": [
    "def selection_best_conf(weight_path, data_path):\n",
    "    model = torch.hub.load('ultralytics/yolov5', 'custom', path=weight_path, force_reload=True)\n",
    "    \n",
    "    rmse_now = 0\n",
    "    rmse_best = float('inf')\n",
    "    best_conf = 0\n",
    "    for conf_value in np.linspace(0, 1, 45):\n",
    "        model.conf = conf_value\n",
    "        preds = []\n",
    "        y = []\n",
    "        for pth in glob(data_path):\n",
    "            img = Image.open(pth)\n",
    "            results = model(img)\n",
    "            preds.append(results.xyxy[0].shape[0])\n",
    "            f = open(pth.replace('images', 'labels')[:-3] + 'txt', 'r')\n",
    "            y.append(len(list(f)))\n",
    "            f.close()\n",
    "        \n",
    "        rmse_now = mse(y, preds, squared=False)\n",
    "        if rmse_best > rmse_now:\n",
    "            rmse_best = rmse_now\n",
    "            best_conf = conf_value\n",
    "        \n",
    "        print(f'RMSE = {rmse_now}, {conf_value} - conf')\n",
    "    \n",
    "    return best_conf"
   ]
  },
  {
   "cell_type": "markdown",
   "metadata": {},
   "source": [
    "5.1.2 Function to find the best iou"
   ]
  },
  {
   "cell_type": "code",
   "execution_count": null,
   "metadata": {},
   "outputs": [],
   "source": [
    "def selection_best_iou(weight_path, data_path, conf):\n",
    "    model = torch.hub.load('ultralytics/yolov5', 'custom', path=weight_path, force_reload=True)\n",
    "    model.conf = conf\n",
    "    model.agnostic = True\n",
    "\n",
    "    rmse_now = 0\n",
    "    rmse_best = float('inf')\n",
    "    best_iou = 0\n",
    "    for iou_value in np.linspace(0, 1, 45):\n",
    "        model.iou = iou_value\n",
    "        preds = []\n",
    "        y = []\n",
    "        for pth in glob(data_path):\n",
    "            img = Image.open(pth)\n",
    "            results = model(img)\n",
    "            preds.append(results.xyxy[0].shape[0])\n",
    "            f = open(pth.replace('images', 'labels')[:-3] + 'txt', 'r')\n",
    "            y.append(len(list(f)))\n",
    "            f.close()\n",
    "        \n",
    "        rmse_now = mse(y, preds, squared=False)\n",
    "        if rmse_best > rmse_now:\n",
    "            rmse_best = rmse_now\n",
    "            best_iou = iou_value\n",
    "        \n",
    "        print(f'RMSE = {rmse_now}, {iou_value} - iou')\n",
    "\n",
    "    return best_iou"
   ]
  },
  {
   "cell_type": "markdown",
   "metadata": {},
   "source": [
    "5.2 Saving best conf and best iou"
   ]
  },
  {
   "cell_type": "code",
   "execution_count": null,
   "metadata": {},
   "outputs": [],
   "source": [
    "best_conf = selection_best_conf('runs/train/exp/weights/epoch50.pt', 'valid/images/*')\n",
    "best_iou = selection_best_iou('runs/train/exp/weights/epoch50.pt', 'valid/images/*', best_conf)"
   ]
  },
  {
   "cell_type": "markdown",
   "metadata": {},
   "source": [
    "5.3 Creating matrices to find the best rmse"
   ]
  },
  {
   "cell_type": "markdown",
   "metadata": {},
   "source": [
    "5.3.1 Creating a function to iterate over conf and iou and calculate rmse for each combination"
   ]
  },
  {
   "cell_type": "code",
   "execution_count": null,
   "metadata": {},
   "outputs": [],
   "source": [
    "def making_data_for_matrix(weight_path, data_path):\n",
    "    model = torch.hub.load('ultralytics/yolov5', 'custom', path=weight_path, force_reload=True)\n",
    "\n",
    "    best_conf = -float('inf')\n",
    "    best_iou = -float('inf')\n",
    "    rmse_typical = float('inf')\n",
    "    rmse_list = []\n",
    "    rmse_prefinal = []\n",
    "\n",
    "    for iou_value in np.linspace(0, 1, 45):\n",
    "        for conf_value in np.linspace(0, 1, 45):\n",
    "            preds = []\n",
    "            y = []\n",
    "\n",
    "            model.conf = conf_value\n",
    "            model.iou = iou_value\n",
    "            model.agnostic = True\n",
    "\n",
    "            for pth in glob(data_path):\n",
    "                img = Image.open(pth)\n",
    "                results = model(img)\n",
    "                preds.append(results.xyxy[0].shape[0])\n",
    "                f = open(pth.replace('images', 'labels')[:-3] + 'txt', 'r')\n",
    "                y.append(len(list(f)))\n",
    "                f.close()\n",
    "\n",
    "            rmse_now = (mse(y, preds, squared=False)**0.5)\n",
    "            rmse_list.append(rmse_now)\n",
    "\n",
    "\n",
    "            print(f'RMSE = {(mse(y, preds, squared=False))}, {iou_value} - iou, {conf_value} - conf')\n",
    "\n",
    "            if rmse_typical > rmse_now:\n",
    "                rmse_typical = rmse_now\n",
    "                best_conf = conf_value\n",
    "                best_iou = iou_value\n",
    "\n",
    "        rmse_prefinal.append(rmse_list)\n",
    "\n",
    "    rmse_final = [(round(x, 3)) for x in rmse_list]\n",
    "    rmse_final = np.array(rmse_final).reshape(45,45)[:, 1:]*-1\n",
    "\n",
    "    iou_final = [(round(x, 3)) for x in (np.linspace(0, 1, 45))]\n",
    "    conf_final = [(round(x, 3)) for x in (np.linspace(0, 1, 45))]\n",
    "\n",
    "    plt.figure(figsize=(45, 45)) \n",
    "\n",
    "    matrix = sns.heatmap(rmse_final[::-1], annot=True, cmap='gist_heat')\n",
    "\n",
    "    matrix.xaxis.set_ticklabels(conf_final[1:])\n",
    "    matrix.yaxis.set_ticklabels(iou_final[::-1])\n",
    "\n",
    "    plt.title(\"Conf and Iou combination\")\n",
    "    plt.xlabel(\"Сonf\")\n",
    "    plt.ylabel(\"Iou\")\n",
    "    plt.show()\n",
    "\n",
    "    return rmse_final, iou_final, conf_final"
   ]
  },
  {
   "cell_type": "markdown",
   "metadata": {},
   "source": [
    "5.3.2 Saving the results of the function"
   ]
  },
  {
   "cell_type": "code",
   "execution_count": null,
   "metadata": {},
   "outputs": [],
   "source": [
    "rmse_list, best_iou_2, best_conf_2 = making_data_for_matrix('runs/train/exp/weights/epoch50.pt', 'valid/images/*')"
   ]
  },
  {
   "cell_type": "markdown",
   "metadata": {},
   "source": [
    "# <b>6. Creating a submit<b>"
   ]
  },
  {
   "cell_type": "markdown",
   "metadata": {},
   "source": [
    "P.S I was engaged in a long enumeration of conf and iou and found out that for the best public score it is worth choosing <b><u>conf=0.241</u></b> but unfortunately, I did not go over iou, so to confirm my result, I ask the father-in-law only with `model.conf=0.241`"
   ]
  },
  {
   "cell_type": "markdown",
   "metadata": {},
   "source": [
    "6.1 Creating a function to create a submit"
   ]
  },
  {
   "cell_type": "code",
   "execution_count": null,
   "metadata": {},
   "outputs": [],
   "source": [
    "def submit_file(weight_path, test_path, conf, iou, submit_name):\n",
    "    model = torch.hub.load('ultralytics/yolov5', 'custom', path=weight_path, force_reload=True)\n",
    "    model.conf = conf\n",
    "    model.iou = iou\n",
    "    model.agnostic = True\n",
    "\n",
    "    paths = []\n",
    "    preds = []\n",
    "    for pth in tqdm(glob(test_path)):\n",
    "        img = Image.open(pth)\n",
    "        results = model(img)\n",
    "        boxes = results.xyxy[0].tolist()\n",
    "        \n",
    "        for coords in boxes:\n",
    "            if coords[2] - coords[0] > 5 and coords[3] - coords[1] > 5:\n",
    "                pass\n",
    "            else:\n",
    "                boxes.remove(coords)\n",
    "\n",
    "        preds.append(len(boxes))\n",
    "        paths.append(pth.split('/')[-1])\n",
    "\n",
    "    df = pd.DataFrame(list(zip(paths, preds)), columns=['filename', 'num'])\n",
    "    df.to_csv(submit_name, index=False)"
   ]
  },
  {
   "cell_type": "markdown",
   "metadata": {},
   "source": [
    "6.2 Calling a function to save a submit"
   ]
  },
  {
   "cell_type": "code",
   "execution_count": null,
   "metadata": {},
   "outputs": [],
   "source": [
    "submit_file('runs/train/exp/weights/epoch50.pt', 'test/*', best_conf, best_iou, 'submit.csv')"
   ]
  },
  {
   "cell_type": "markdown",
   "metadata": {},
   "source": [
    "# <b>Now you have my best solution on the public leaderboard<b>"
   ]
  },
  {
   "cell_type": "markdown",
   "metadata": {},
   "source": [
    "![GIFY](https://y.yarn.co/0b93028c-fc87-4c55-84d4-8e59be81cd73_text.gif)"
   ]
  },
  {
   "cell_type": "markdown",
   "metadata": {},
   "source": [
    "# <b>P.S if the cut turns out to be different, then replace batch with 8</b>"
   ]
  }
 ],
 "metadata": {
  "kernelspec": {
   "display_name": "hack",
   "language": "python",
   "name": "python3"
  },
  "language_info": {
   "codemirror_mode": {
    "name": "ipython",
    "version": 3
   },
   "file_extension": ".py",
   "mimetype": "text/x-python",
   "name": "python",
   "nbconvert_exporter": "python",
   "pygments_lexer": "ipython3",
   "version": "3.9.7"
  },
  "orig_nbformat": 4
 },
 "nbformat": 4,
 "nbformat_minor": 2
}
